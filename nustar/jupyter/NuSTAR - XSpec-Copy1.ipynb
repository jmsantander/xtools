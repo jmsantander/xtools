{
 "cells": [
  {
   "cell_type": "code",
   "execution_count": 18,
   "metadata": {},
   "outputs": [],
   "source": [
    "import xspec as xs\n",
    "import os\n",
    "import numpy as np\n",
    "import pylab as pl\n",
    "\n",
    "import matplotlib \n",
    "pl.rcParams['figure.figsize'] = (8, 6.0)\n",
    "pl.rcParams['font.size'] = 23\n",
    "#pl.rcParams['font.family'] = 'sans-serif'\n",
    "pl.rcParams['axes.linewidth'] = 1.5 #set the value globally\n",
    "\n",
    "matplotlib.rcParams['font.family'] = 'CMU Sans Serif'\n",
    "\n"
   ]
  },
  {
   "cell_type": "code",
   "execution_count": 32,
   "metadata": {},
   "outputs": [],
   "source": [
    "xs.AllData.clear()\n",
    "os.chdir(\"/Users/jmsantander/nustar/data/bzb/products/\")\n",
    "xs.AllData += \"outspectra_90501658002.grp\"\n"
   ]
  },
  {
   "cell_type": "code",
   "execution_count": 33,
   "metadata": {},
   "outputs": [],
   "source": [
    "#xs.Plot.setRebin(3, 10)\n",
    "xs.Plot.xAxis = \"keV\"\n",
    "xs.Plot.yLog = True\n",
    "\n",
    "\n",
    "xs.AllData.ignore(\"0.0-3.0 50.0-**\")\n",
    "xs.AllData.ignore(\"bad\")\n",
    "m1 = xs.Model(\"phabs*powerlaw\")"
   ]
  },
  {
   "cell_type": "code",
   "execution_count": 34,
   "metadata": {},
   "outputs": [],
   "source": [
    "comp1 = m1.phabs\n",
    "comp2 = m1.powerlaw\n",
    "\n",
    "# Freezing nH\n",
    "# https://heasarc.gsfc.nasa.gov/cgi-bin/Tools/w3nh/w3nh.pl?Entry=1RXS+J223249.5-202232&NR=GRB%2FSIMBAD%2BSesame%2FNED&CoordSys=Equatorial&equinox=2000&radius=0.1&usemap=0\n",
    "par1 = m1.phabs.nH\n",
    "par1.values = 3.33e-2\n",
    "par1.frozen = True\n",
    "\n",
    "xs.Fit.nIterations = 1000\n",
    "xs.Fit.statMethod = \"cstat\"\n",
    "xs.Fit.statTest = \"chi\"\n",
    "xs.Fit.perform()"
   ]
  },
  {
   "cell_type": "code",
   "execution_count": 35,
   "metadata": {
    "scrolled": false
   },
   "outputs": [],
   "source": [
    "xs.Plot.device = \"/xw\"\n",
    "#xs.Plot(\"data\",\"model\",\"resid\")\n",
    "xs.Plot(\"eeufspec\",\"resid\") # E^2 F(E)\n",
    "#xs.Plot(\"ufspec\",\"resid\")\n",
    "\n"
   ]
  },
  {
   "cell_type": "code",
   "execution_count": 36,
   "metadata": {},
   "outputs": [
    {
     "name": "stdout",
     "output_type": "stream",
     "text": [
      "3.0600 0.0200 2.9358E-12 5.9721E-13\n",
      "3.1400 0.0600 2.5802E-12 3.2034E-13\n",
      "3.2600 0.0600 2.4769E-12 3.0492E-13\n",
      "3.3600 0.0400 2.6222E-12 3.7589E-13\n",
      "3.4800 0.0800 2.5426E-12 2.5878E-13\n",
      "3.6000 0.0400 2.6045E-12 3.6275E-13\n",
      "3.6800 0.0400 2.3423E-12 3.4349E-13\n",
      "3.7800 0.0600 2.4326E-12 2.8508E-13\n",
      "3.8800 0.0400 2.3815E-12 3.3931E-13\n",
      "4.0000 0.0800 2.4408E-12 2.5043E-13\n",
      "4.1200 0.0400 3.1098E-12 3.8235E-13\n",
      "4.2200 0.0600 2.2627E-12 2.7470E-13\n",
      "4.3200 0.0400 2.2387E-12 3.3242E-13\n",
      "4.4000 0.0400 2.0978E-12 3.2258E-13\n",
      "4.5000 0.0600 2.2733E-12 2.8009E-13\n",
      "4.6200 0.0600 2.3478E-12 2.8715E-13\n",
      "4.7400 0.0600 2.1664E-12 2.7609E-13\n",
      "4.8400 0.0400 2.3670E-12 3.4514E-13\n",
      "4.9200 0.0400 2.8956E-12 3.8982E-13\n",
      "5.0200 0.0600 2.2617E-12 2.9408E-13\n",
      "5.1600 0.0800 2.1201E-12 2.4915E-13\n",
      "5.2800 0.0400 2.2922E-12 3.5722E-13\n",
      "5.4000 0.0800 1.9539E-12 2.4220E-13\n",
      "5.5600 0.0800 2.1923E-12 2.5839E-13\n",
      "5.6800 0.0400 2.9076E-12 4.2192E-13\n",
      "5.7600 0.0400 2.8854E-12 4.1181E-13\n",
      "5.8600 0.0600 2.6665E-12 3.3863E-13\n",
      "5.9800 0.0600 2.6219E-12 3.3195E-13\n",
      "6.1800 0.1400 1.8565E-12 1.9316E-13\n",
      "6.4400 0.1200 2.1925E-12 2.3117E-13\n",
      "6.6200 0.0600 2.6815E-12 3.6522E-13\n",
      "6.7400 0.0600 2.2462E-12 3.3016E-13\n",
      "6.8600 0.0600 2.3277E-12 3.4505E-13\n",
      "6.9800 0.0600 2.3392E-12 3.4412E-13\n",
      "7.1400 0.1000 2.1054E-12 2.6340E-13\n",
      "7.3000 0.0600 2.3534E-12 3.6157E-13\n",
      "7.4400 0.0800 2.3469E-12 3.2026E-13\n",
      "7.6000 0.0800 2.3240E-12 3.2348E-13\n",
      "7.8600 0.1800 2.0881E-12 2.1469E-13\n",
      "8.1400 0.1000 2.3032E-12 3.0544E-13\n",
      "8.3600 0.1200 2.0666E-12 2.6941E-13\n",
      "8.8000 0.3200 1.7543E-12 1.6248E-13\n",
      "9.2000 0.0800 2.3440E-12 3.7428E-13\n",
      "9.3800 0.1000 2.3643E-12 3.4670E-13\n",
      "9.6400 0.1600 2.1171E-12 2.7075E-13\n",
      "10.1400 0.3400 1.9006E-12 1.9418E-13\n",
      "10.9600 0.4800 2.2233E-12 1.9827E-13\n",
      "Energy flux (5-10 keV): 1.527E-12 erg/cm^2/s (1.486E-12 - 1.558E-12 68% range)\n"
     ]
    },
    {
     "data": {
      "text/plain": [
       "Text(0, 0.5, '$E^2 F(E)$ [erg cm$^{-2}$ s$^{-1}$]')"
      ]
     },
     "execution_count": 36,
     "metadata": {},
     "output_type": "execute_result"
    },
    {
     "data": {
      "image/png": "[encoded data removed]",
      "text/plain": [
       "<Figure size 576x432 with 1 Axes>"
      ]
     },
     "metadata": {
      "needs_background": "light"
     },
     "output_type": "display_data"
    }
   ],
   "source": [
    "keV = 1.60218e-9 # keV to erg\n",
    "\n",
    "# Get coordinates from plot:\n",
    "energies = xs.Plot.x() # in keV\n",
    "nuFnu = np.array(xs.Plot.y()) * keV # in erg cm^-2 s^-1\n",
    "dE = np.array(xs.Plot.xErr())\n",
    "dnuFnu = np.array(xs.Plot.yErr()) * keV \n",
    "\n",
    "\n",
    "unfolded = xs.Plot.model()\n",
    "# Plot using Matplotlib:\n",
    "pl.errorbar(energies, nuFnu, xerr=dE, yerr=dnuFnu,marker='', linestyle='', color='red')\n",
    "pl.plot(energies, np.array(unfolded)*keV)\n",
    "\n",
    "outfile = open(\"1rxs_sed.dat\", \"w\")\n",
    "outfile.write(\"#Emid dE nuFnu dnuFnu\\n\")\n",
    "\n",
    "for (ec, f, dec, df) in zip(energies, nuFnu, dE, dnuFnu):\n",
    "    line = \"{:.4f} {:.4f} {:.4E} {:.4E}\".format(ec, dec, f, df)\n",
    "    print(line)\n",
    "    outfile.write(line + \"\\n\")\n",
    "    \n",
    "outfile.close()\n",
    "\n",
    "xs.AllModels.calcFlux(\"5.0 10.0 err\")\n",
    "flux = list(xs.AllData(1).flux)\n",
    "print(\"Energy flux (5-10 keV): {:.3E} erg/cm^2/s ({:.3E} - {:.3E} 68% range)\".format(flux[0], flux[1], flux[2]))\n",
    "\n",
    "\n",
    "## From SED Builder\n",
    "#h = 4.135667696e-18 # Hz to keV\n",
    "#FMPA = np.genfromtxt(\"/Users/jmsantander/nustar/1RXS/A.txt\")\n",
    "#pl.errorbar(FMPA[:,0] * h, FMPA[:,2], xerr=FMPA[:,1] * h, yerr=FMPA[:,3], linestyle='', alpha=0.2)\n",
    "#FMPB = np.genfromtxt(\"/Users/jmsantander/nustar/1RXS/B.txt\")\n",
    "#pl.errorbar(FMPB[:,0] * h, FMPB[:,2], xerr=FMPB[:,1] * h, yerr=FMPB[:,3], linestyle='', alpha=0.2)\n",
    "\n",
    "pl.xscale('log')\n",
    "pl.yscale('log')\n",
    "\n",
    "#pl.ylim(1e-13, 3e-12)\n",
    "pl.xlim(2,30)\n",
    "\n",
    "pl.xlabel('Energy [keV]')\n",
    "pl.ylabel('$E^2 F(E)$ [erg cm$^{-2}$ s$^{-1}$]')"
   ]
  },
  {
   "cell_type": "code",
   "execution_count": null,
   "metadata": {},
   "outputs": [],
   "source": []
  }
 ],
 "metadata": {
  "kernelspec": {
   "display_name": "Python 3",
   "language": "python",
   "name": "python3"
  },
  "language_info": {
   "codemirror_mode": {
    "name": "ipython",
    "version": 3
   },
   "file_extension": ".py",
   "mimetype": "text/x-python",
   "name": "python",
   "nbconvert_exporter": "python",
   "pygments_lexer": "ipython3",
   "version": "3.7.3"
  }
 },
 "nbformat": 4,
 "nbformat_minor": 2
}
